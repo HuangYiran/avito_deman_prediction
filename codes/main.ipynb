{
 "cells": [
  {
   "cell_type": "markdown",
   "metadata": {},
   "source": [
    "The main Function"
   ]
  },
  {
   "cell_type": "code",
   "execution_count": 68,
   "metadata": {},
   "outputs": [],
   "source": [
    "import pandas as pd \n",
    "import numpy as np\n",
    "import matplotlib\n",
    "import matplotlib.pyplot as plt\n",
    "import seaborn as sns\n",
    "%matplotlib inline "
   ]
  },
  {
   "cell_type": "code",
   "execution_count": 69,
   "metadata": {},
   "outputs": [],
   "source": [
    "# Load Data\n",
    "application_train = pd.read_csv(\"../data/application_train.csv\")\n",
    "application_test  = pd.read_csv(\"../data/application_test.csv\")\n",
    "bureau_balance = pd.read_csv(\"../data/bureau_balance.csv\")\n",
    "bureau =  pd.read_csv(\"../data/bureau.csv\")\n",
    "credit_card_balance = pd.read_csv(\"../data/credit_card_balance.csv\")\n",
    "installments_payments =  pd.read_csv(\"../data/installments_payments.csv\")\n",
    "POS_CASH_balance =  pd.read_csv(\"../data/POS_CASH_balance.csv\")\n",
    "previous_application =  pd.read_csv(\"../data/previous_application.csv\")\n",
    "sample_submission = pd.read_csv(\"../data/sample_submission.csv\")"
   ]
  },
  {
   "cell_type": "code",
   "execution_count": null,
   "metadata": {},
   "outputs": [],
   "source": [
    "entire_data = [application_train,application_test,bureau_balance,bureau,credit_card_balance,installments_payments,POS_CASH_balance,previous_application,sample_submission]"
   ]
  },
  {
   "cell_type": "code",
   "execution_count": null,
   "metadata": {},
   "outputs": [],
   "source": [
    "# clean methods of the data\n",
    "def clean1(data):\n",
    "    return data\n",
    "def clean2(data):\n",
    "    return data\n",
    "cleanmethod = [clean1,clean2]"
   ]
  },
  {
   "cell_type": "code",
   "execution_count": null,
   "metadata": {},
   "outputs": [],
   "source": [
    "# Selection 1:\n",
    "# Data cleaning (Using for loop to return the different version of cleandata)\n",
    "def clean(data,clean_method):\n",
    "        cleaned = list()\n",
    "        for i in cleanmethod:\n",
    "            clean_temp = i(data)\n",
    "            cleaned.append(clean_temp)\n",
    "        return cleaned\n",
    "# Selection 2:\n",
    "# Data cleaning (clean the data according to method_number, retrun only one verion of cleandata)\n",
    "def cleaning(data,clean_method,method_number):\n",
    "        cleaned = list()\n",
    "        if method_number <= len(clean_method):\n",
    "            clean_temp = clean_method[method_number](data)\n",
    "            cleaned.append(clean_temp)\n",
    "        else:\n",
    "            print(\"WRONG!!!\")\n",
    "        return cleaned"
   ]
  },
  {
   "cell_type": "code",
   "execution_count": null,
   "metadata": {},
   "outputs": [],
   "source": [
    "# clean data\n",
    "clean(entire_data)"
   ]
  },
  {
   "cell_type": "code",
   "execution_count": null,
   "metadata": {},
   "outputs": [],
   "source": [
    "# badeline\n",
    "baseline(entire_data)"
   ]
  },
  {
   "cell_type": "code",
   "execution_count": null,
   "metadata": {},
   "outputs": [],
   "source": [
    "# feature extraction and generation\n",
    "feature(entire_data)"
   ]
  },
  {
   "cell_type": "code",
   "execution_count": 76,
   "metadata": {},
   "outputs": [
    {
     "data": {
      "text/plain": [
       "2"
      ]
     },
     "execution_count": 76,
     "metadata": {},
     "output_type": "execute_result"
    }
   ],
   "source": [
    "# model \n",
    "model(entire_data)"
   ]
  },
  {
   "cell_type": "code",
   "execution_count": null,
   "metadata": {},
   "outputs": [],
   "source": []
  }
 ],
 "metadata": {
  "kernelspec": {
   "display_name": "Python 3",
   "language": "python",
   "name": "python3"
  },
  "language_info": {
   "codemirror_mode": {
    "name": "ipython",
    "version": 3
   },
   "file_extension": ".py",
   "mimetype": "text/x-python",
   "name": "python",
   "nbconvert_exporter": "python",
   "pygments_lexer": "ipython3",
   "version": "3.6.5"
  }
 },
 "nbformat": 4,
 "nbformat_minor": 2
}
